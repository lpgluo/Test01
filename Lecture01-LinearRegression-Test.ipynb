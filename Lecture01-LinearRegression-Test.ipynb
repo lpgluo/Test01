{
 "cells": [
  {
   "cell_type": "code",
   "execution_count": 4,
   "metadata": {
    "collapsed": true
   },
   "outputs": [
    {
     "name": "stdout",
     "output_type": "stream",
     "text": [
      "(3, 4)\n",
      "3\n",
      "4\n"
     ]
    }
   ],
   "source": [
    "import numpy as np\n",
    "k = np.matrix([[1, 2, 3, 4],\n",
    "             [5, 6, 7, 8],\n",
    "             [9, 10, 11, 12]])\n",
    "print(np.shape(k))       # 输出（3，4）表示矩阵为3行4列\n",
    "print(k.shape[0])        # shape[0]输出3，为矩阵的行数\n",
    "print(k.shape[1])        # 同理shape[1]输出列数"
   ]
  },
  {
   "cell_type": "markdown",
   "source": [
    "## 向量内积\n",
    "向量其实是一维的矩阵，两个向量进行内积运算时，需要保证两个向量包含的元素个数是相同的。"
   ],
   "metadata": {
    "collapsed": false
   }
  },
  {
   "cell_type": "code",
   "execution_count": 5,
   "outputs": [
    {
     "name": "stdout",
     "output_type": "stream",
     "text": [
      "168\n"
     ]
    }
   ],
   "source": [
    "import numpy as np\n",
    "\n",
    "x = np.array([1, 2, 3, 4, 5, 6, 7])\n",
    "y = np.array([2, 3, 4, 5, 6, 7, 8])\n",
    "result = np.dot(x, y)\n",
    "print(result)"
   ],
   "metadata": {
    "collapsed": false,
    "pycharm": {
     "name": "#%%\n"
    }
   }
  },
  {
   "cell_type": "markdown",
   "source": [
    "## 矩阵相乘\n",
    "两个矩阵(x, y)如果可以进行乘法运算，需要满足以下条件：\n",
    "x为 m×n 阶矩阵，y为 n×p 阶矩阵，则相乘的结果 result 为 m×p 阶矩阵。"
   ],
   "metadata": {
    "collapsed": false
   }
  },
  {
   "cell_type": "code",
   "execution_count": 6,
   "outputs": [
    {
     "name": "stdout",
     "output_type": "stream",
     "text": [
      "[[ 2  5  7  6]\n",
      " [ 4 11 11 11]]\n",
      "x阶数：(2, 3)\n",
      "y阶数：(3, 4)\n",
      "result阶数：(2, 4)\n"
     ]
    }
   ],
   "source": [
    "import numpy as np\n",
    "\n",
    "x = np.array([[1, 2, 3],\n",
    "   [3, 4, 4]])\n",
    "y = np.array([[0, 1, 1, 1],\n",
    "   [1, 2, 0, 1],\n",
    "   [0, 0, 2, 1]])\n",
    "result = np.dot(x, y)\n",
    "\n",
    "print(result)\n",
    "print(\"x阶数：\" + str(x.shape))\n",
    "print(\"y阶数：\" + str(y.shape))\n",
    "print(\"result阶数：\" + str(result.shape))"
   ],
   "metadata": {
    "collapsed": false,
    "pycharm": {
     "name": "#%%\n"
    }
   }
  },
  {
   "cell_type": "markdown",
   "source": [
    "矩阵乘法不满足交换律"
   ],
   "metadata": {
    "collapsed": false
   }
  },
  {
   "cell_type": "code",
   "execution_count": 7,
   "outputs": [
    {
     "name": "stdout",
     "output_type": "stream",
     "text": [
      "result1 = [[ 4  6]\n",
      " [10 14]]\n",
      "result2 = [[ 8 12]\n",
      " [ 7 10]]\n"
     ]
    }
   ],
   "source": [
    "import numpy as np\n",
    "\n",
    "x = np.array([[1, 2],\n",
    "   [3, 4]])\n",
    "y = np.array([[2, 2],\n",
    "   [1, 2]])\n",
    "result1 = np.dot(x, y)\n",
    "result2 = np.dot(y, x)\n",
    "\n",
    "print(\"result1 = \" + str(result1))\n",
    "print(\"result2 = \" + str(result2))"
   ],
   "metadata": {
    "collapsed": false,
    "pycharm": {
     "name": "#%%\n"
    }
   }
  },
  {
   "cell_type": "markdown",
   "source": [
    "## 矩阵与向量乘法\n",
    "矩阵x为m×n阶，向量y为n阶向量，则矩阵x和向量y可以进行乘法运算，结果为m阶向量。进行运算时，会首先将**后面一项**进行自动转置操作，之后再进行乘法运算。"
   ],
   "metadata": {
    "collapsed": false
   }
  },
  {
   "cell_type": "code",
   "execution_count": 11,
   "outputs": [
    {
     "name": "stdout",
     "output_type": "stream",
     "text": [
      "[14 23]\n",
      "x阶数：(2, 3)\n",
      "y阶数：(3,)\n",
      "result阶数：(2,)\n",
      "result1 = [14 23]\n"
     ]
    }
   ],
   "source": [
    "import numpy as np\n",
    "\n",
    "x = np.array([[1, 2, 3],\n",
    "   [3, 4, 4]])\n",
    "y = np.array([1, 2, 3]) # no.dot(x,y) 会先自动转置y 我们把y看成1 x 3 的矩阵就好理解了\n",
    "result = np.dot(x, y)\n",
    "\n",
    "print(result)\n",
    "print(\"x阶数：\" + str(x.shape))\n",
    "print(\"y阶数：\" + str(y.shape))\n",
    "print(\"result阶数：\" + str(result.shape))\n",
    "\n",
    "result1 = np.dot(x, y)\n",
    "# result2 = np.dot(y, x)\n",
    "\n",
    "print(\"result1 = \" + str(result1))\n",
    "# print(\"result2 = \" + str(result2))"
   ],
   "metadata": {
    "collapsed": false,
    "pycharm": {
     "name": "#%%\n"
    }
   }
  },
  {
   "cell_type": "code",
   "execution_count": 9,
   "outputs": [
    {
     "name": "stdout",
     "output_type": "stream",
     "text": [
      "result1 = [14 23  5]\n",
      "result2 = [ 7 13 14]\n"
     ]
    }
   ],
   "source": [
    "import numpy as np\n",
    "\n",
    "x = np.array([[1, 2, 3],\n",
    "   [3, 4, 4],\n",
    "   [0, 1, 1]])\n",
    "y = np.array([1, 2, 3])\n",
    "result1 = np.dot(x, y) # 1×1 + 2×2 + 3×3 = 14（result1的第一个元素）\n",
    "result2 = np.dot(y, x) # 1×1 + 2×3 + 3×0 = 7 （result2的第一个元素）\n",
    "\n",
    "print(\"result1 = \" + str(result1))\n",
    "print(\"result2 = \" + str(result2))"
   ],
   "metadata": {
    "collapsed": false,
    "pycharm": {
     "name": "#%%\n"
    }
   }
  },
  {
   "cell_type": "code",
   "execution_count": null,
   "outputs": [],
   "source": [],
   "metadata": {
    "collapsed": false,
    "pycharm": {
     "name": "#%%\n"
    }
   }
  }
 ],
 "metadata": {
  "kernelspec": {
   "display_name": "Python 3",
   "language": "python",
   "name": "python3"
  },
  "language_info": {
   "codemirror_mode": {
    "name": "ipython",
    "version": 2
   },
   "file_extension": ".py",
   "mimetype": "text/x-python",
   "name": "python",
   "nbconvert_exporter": "python",
   "pygments_lexer": "ipython2",
   "version": "2.7.6"
  }
 },
 "nbformat": 4,
 "nbformat_minor": 0
}